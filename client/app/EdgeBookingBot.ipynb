{
 "cells": [
  {
   "cell_type": "code",
   "execution_count": 2,
   "id": "5ec5feaa",
   "metadata": {},
   "outputs": [],
   "source": [
    "import pandas as pd"
   ]
  },
  {
   "cell_type": "code",
   "execution_count": 46,
   "id": "2edcd3d5",
   "metadata": {},
   "outputs": [],
   "source": [
    "test = pd.DataFrame([{\"category\": \"OLDER FAMILIES\", \"quantity\": 1},\n",
    "                    {\"category\": \"YOUNG FAMILIES\", \"quantity\": 1},\n",
    "                    {\"category\": \"RETIREE\", \"quantity\": 3}])"
   ]
  },
  {
   "cell_type": "code",
   "execution_count": 47,
   "id": "7e0fa599",
   "metadata": {},
   "outputs": [],
   "source": [
    "test[\"category\"].replace(\"FAMILIES\", \"SINGLES/COUPLES\", regex=True, inplace=True)"
   ]
  },
  {
   "cell_type": "code",
   "execution_count": 50,
   "id": "febed015",
   "metadata": {},
   "outputs": [],
   "source": [
    "test[\"category\"] = test[\"category\"].astype(\"category\")\n",
    "test[\"category\"].cat.set_categories([\n",
    "        \"NEW FAMILIES\", \n",
    "        \"YOUNG SINGLES/COUPLES\",\n",
    "        \"MIDAGE SINGLES/COUPLES\",\n",
    "        \"OLDER SINGLES/COUPLES\",\n",
    "        \"RETIREES\"\n",
    "    ], ordered=True)\n",
    "test = test.sort_values(by=\"category\")"
   ]
  },
  {
   "cell_type": "code",
   "execution_count": 44,
   "id": "d4844366",
   "metadata": {},
   "outputs": [],
   "source": [
    "test[\"category\"].str.split(\" \").get(-1)"
   ]
  },
  {
   "cell_type": "code",
   "execution_count": 51,
   "id": "e93f4692",
   "metadata": {},
   "outputs": [
    {
     "data": {
      "text/html": [
       "<div>\n",
       "<style scoped>\n",
       "    .dataframe tbody tr th:only-of-type {\n",
       "        vertical-align: middle;\n",
       "    }\n",
       "\n",
       "    .dataframe tbody tr th {\n",
       "        vertical-align: top;\n",
       "    }\n",
       "\n",
       "    .dataframe thead th {\n",
       "        text-align: right;\n",
       "    }\n",
       "</style>\n",
       "<table border=\"1\" class=\"dataframe\">\n",
       "  <thead>\n",
       "    <tr style=\"text-align: right;\">\n",
       "      <th></th>\n",
       "      <th>category</th>\n",
       "      <th>quantity</th>\n",
       "    </tr>\n",
       "  </thead>\n",
       "  <tbody>\n",
       "    <tr>\n",
       "      <th>0</th>\n",
       "      <td>OLDER SINGLES/COUPLES</td>\n",
       "      <td>1</td>\n",
       "    </tr>\n",
       "    <tr>\n",
       "      <th>2</th>\n",
       "      <td>RETIREE</td>\n",
       "      <td>3</td>\n",
       "    </tr>\n",
       "    <tr>\n",
       "      <th>1</th>\n",
       "      <td>YOUNG SINGLES/COUPLES</td>\n",
       "      <td>1</td>\n",
       "    </tr>\n",
       "  </tbody>\n",
       "</table>\n",
       "</div>"
      ],
      "text/plain": [
       "                category  quantity\n",
       "0  OLDER SINGLES/COUPLES         1\n",
       "2                RETIREE         3\n",
       "1  YOUNG SINGLES/COUPLES         1"
      ]
     },
     "execution_count": 51,
     "metadata": {},
     "output_type": "execute_result"
    }
   ],
   "source": [
    "test"
   ]
  },
  {
   "cell_type": "code",
   "execution_count": null,
   "id": "bf9f2415",
   "metadata": {},
   "outputs": [],
   "source": []
  },
  {
   "cell_type": "code",
   "execution_count": null,
   "id": "ee5e13ab",
   "metadata": {},
   "outputs": [],
   "source": []
  },
  {
   "cell_type": "code",
   "execution_count": null,
   "id": "2fd8985d",
   "metadata": {},
   "outputs": [],
   "source": []
  },
  {
   "cell_type": "code",
   "execution_count": 14,
   "id": "c35806a5",
   "metadata": {},
   "outputs": [],
   "source": [
    "from bs4 import BeautifulSoup\n",
    "from datetime import date, datetime, timedelta\n",
    "import datetime as dt\n",
    "from datetimerange import DateTimeRange\n",
    "import numpy as np\n",
    "import json\n",
    "from selenium import webdriver\n",
    "from selenium.webdriver.common.action_chains import ActionChains\n",
    "from selenium.webdriver.common.by import By\n",
    "from selenium.webdriver.edge.options import Options\n",
    "import time\n",
    "\n",
    "\n",
    "homeUrl = 'https://bath10.artifaxagora.com/room-bookings'\n",
    "bookingUrl = f'{homeUrl}/venue-hire'\n",
    "historyUrl = f'{homeUrl}/booking-history'\n",
    "maxSlotLength = timedelta(hours=2)\n",
    "username = 'secas20'\n",
    "password = 'AlwaysonEdge345!'\n",
    "\n",
    "# Room Identifiers\n",
    "roomIDDict = {\n",
    "\n",
    "    'buchan': 19,\n",
    "    'room2': 18,\n",
    "    'room1': 17,\n",
    "    'choral': 23\n",
    "\n",
    "}\n",
    "\n",
    "edgeOptions = Options()\n",
    "# edgeOptions.add_argument('--headless')\n",
    "driver = webdriver.Edge(options=edgeOptions)\n",
    "action = ActionChains(driver)"
   ]
  },
  {
   "cell_type": "code",
   "execution_count": 16,
   "id": "b9f1ffed",
   "metadata": {},
   "outputs": [],
   "source": [
    "def sign_in(username, password):\n",
    "\n",
    "    if driver.current_url != homeUrl:\n",
    "        \n",
    "        driver.get(homeUrl)\n",
    "        time.sleep(1)\n",
    "\n",
    "    signInElementList = driver.find_elements(By.LINK_TEXT, 'Sign In')\n",
    "\n",
    "    if signInElementList:\n",
    "\n",
    "        action.move_to_element(signInElementList[0]).click().perform()\n",
    "        \n",
    "        emailField = driver.find_element(By.CSS_SELECTOR, '#login_form #email')\n",
    "        emailField.clear()\n",
    "        emailField.send_keys(f'{username}@bath.ac.uk')\n",
    "\n",
    "        passwordField = driver.find_element(By.CSS_SELECTOR, '#login_form #password')\n",
    "        passwordField.clear()\n",
    "        passwordField.send_keys(password)\n",
    "        \n",
    "        signInButton = driver.find_element(By.CSS_SELECTOR, '#login_form button[type=\"submit\"]')\n",
    "        action.move_to_element(signInButton).click().perform()\n",
    "\n",
    "    while driver.find_elements(By.LINK_TEXT, 'Sign In'):\n",
    "\n",
    "        if driver.find_elements(By.CSS_SELECTOR, 'div.sweet-alert.showSweetAlert.visible'):\n",
    "\n",
    "            action.move_to_element(driver.find_element(By.CSS_SELECTOR, '.confirm')).click().perform()\n",
    "            return 'Error'\n",
    "\n",
    "        else:\n",
    "\n",
    "            time.sleep(1)\n",
    "        \n",
    "    return 'Success'\n",
    "    \n",
    "def find_dates_not_booked(bookCancelled=True):\n",
    "\n",
    "    # Dates are in date.\n",
    "\n",
    "    if driver.current_url != historyUrl:\n",
    "        \n",
    "        driver.get(historyUrl)\n",
    "        \n",
    "    while driver.find_element(By.CSS_SELECTOR, '.dataTables_empty').text == 'Loading...':\n",
    "\n",
    "        time.sleep(1)\n",
    "\n",
    "    soup = BeautifulSoup(driver.execute_script('return document.documentElement.innerHTML'), 'html.parser')\n",
    "    bookingList = soup.select_one('#future tbody').find_all('tr')\n",
    "\n",
    "    dateSet = {date.today() + timedelta(days=i) for i in range(1, 7)}\n",
    "    bookedDateSet = set()\n",
    "\n",
    "    for booking in bookingList:\n",
    "\n",
    "        bookingData = booking.find_all('td')\n",
    "\n",
    "        try:\n",
    "\n",
    "            bookingStatus = bookingData[-2].get_text()\n",
    "\n",
    "        except IndexError:\n",
    "        # No bookings found.\n",
    "\n",
    "            break\n",
    "\n",
    "        else:\n",
    "\n",
    "            if all([bookCancelled, bookingStatus == 'Cancelled']):\n",
    "\n",
    "                continue\n",
    "\n",
    "            bookedDate = datetime.strptime(bookingData[2].get_text(), '%d/%m/%Y').date()\n",
    "            bookedDateSet.add(bookedDate)\n",
    "\n",
    "    return sorted(list(dateSet - bookedDateSet))\n",
    "\n",
    "def filter_taken_slots(roomStr, dateToBook: date):\n",
    "\n",
    "    if driver.current_url != homeUrl:\n",
    "        \n",
    "        driver.get(homeUrl)\n",
    "        time.sleep(1)\n",
    "\n",
    "    # Clear all previous room filters.\n",
    "    if not driver.find_element(By.CSS_SELECTOR, '#ftal_room').get_attribute('aria-expanded'):\n",
    "        \n",
    "        locationFilterExpander = driver.find_element(By.CSS_SELECTOR, 'span[aria-labelledby=\"ftal_room\"]')\n",
    "        action.move_to_element(locationFilterExpander).click().perform()\n",
    "\n",
    "    checkedBoxList = driver.find_elements(By.CSS_SELECTOR, f'span[role=\"checkbox\"]:has(+ span[aria-selected=\"true\"])')\n",
    "\n",
    "    for checkbox in checkedBoxList:\n",
    "        \n",
    "        action.move_to_element(checkbox).click().perform()\n",
    "\n",
    "    # Apply filters.\n",
    "    checkboxToTick = driver.find_element(\n",
    "        By.CSS_SELECTOR, \n",
    "        f'span[aria-labelledby=\"ftal_room[{roomIDDict[roomStr]}]\"] span[role=\"checkbox\"]'\n",
    "    )\n",
    "    action.move_to_element(checkboxToTick).click().perform()\n",
    "\n",
    "    for dateID in ['#date_from', '#date_to']:\n",
    "\n",
    "        dateField = driver.find_element(By.CSS_SELECTOR, dateID)\n",
    "        dateField.clear()\n",
    "        dateField.send_keys(date.strftime(dateToBook, '%d/%m/%Y'))\n",
    "        \n",
    "    # Check that schedule has been rendered\n",
    "    noContentElement = driver.find_element(By.CSS_SELECTOR, '.sorry_no_content_text')\n",
    "    \n",
    "    while all([\n",
    "        noContentElement.get_attribute('style') == 'display: none;',\n",
    "        driver.find_elements(By.CSS_SELECTOR, '.jscroll > *') == []\n",
    "    ]):\n",
    "        \n",
    "        time.sleep(1)\n",
    "\n",
    "    soup = BeautifulSoup(driver.execute_script('return document.documentElement.innerHTML'), 'html.parser')\n",
    "    takenSlotList = soup.select('.date_time')\n",
    "\n",
    "    return [slot.get_text() for slot in takenSlotList]\n",
    "\n",
    "def find_free_slots(takenStrList, bookingTimeRange: DateTimeRange):\n",
    "\n",
    "    freeRangeList = [bookingTimeRange]\n",
    "    \n",
    "    for slot in takenStrList:\n",
    "        \n",
    "        timeList = slot.split(' – ')\n",
    "        startTime = datetime.strptime(timeList[0], '%H:%M')\n",
    "        endTime = datetime.strptime(timeList[1], '%H:%M')\n",
    "        takenRange = DateTimeRange(startTime, endTime)\n",
    "        newFreeRangeList = []\n",
    "\n",
    "        for freeRange in freeRangeList:\n",
    "\n",
    "            newFreeRangeList += freeRange.subtract(takenRange)\n",
    "        \n",
    "        freeRangeList = newFreeRangeList\n",
    "\n",
    "    return freeRangeList\n",
    "\n",
    "def save_schedule(scheduleName, scheduleDict):\n",
    "\n",
    "    with open(f'bookingSchedules/{scheduleName}.json', 'r') as file:\n",
    "\n",
    "        json.dump(scheduleDict, file)\n",
    "\n",
    "def get_schedule(scheduleName):\n",
    "\n",
    "    with open(f'bookingSchedules/{scheduleName}.json', 'r') as file:\n",
    "\n",
    "        scheduleDict = json.load(file)\n",
    "\n",
    "    return [DateTimeRange.from_range_text(timeRange) for day, timeRange in scheduleDict.items()]"
   ]
  },
  {
   "cell_type": "code",
   "execution_count": 14,
   "id": "2184bd53",
   "metadata": {},
   "outputs": [],
   "source": [
    "def get_schedule_data_func(indexInt):\n",
    "\n",
    "    def get_schedule_data(scheduleName):\n",
    "\n",
    "        with open(f'bookingSchedules/{scheduleName}.json', 'r') as file:\n",
    "\n",
    "            scheduleDict = json.load(file)\n",
    "\n",
    "        return [DateTimeRange.from_range_text(dataList[indexInt]) for _, dataList in scheduleDict.items()]\n",
    "\n",
    "    return get_schedule_data\n",
    "\n",
    "get_schedule_list = get_schedule_data_func(0)\n",
    "get_room_list = get_schedule_data_func(1)\n",
    "get_mode_list = get_schedule_data_func(2)"
   ]
  },
  {
   "cell_type": "code",
   "execution_count": 4,
   "id": "27764d54",
   "metadata": {},
   "outputs": [],
   "source": [
    "with open(f'bookingSchedules/maxBookingWindow.json', 'w') as file:\n",
    "    \n",
    "    dataDict = {\n",
    "        \"mon\": [\"1900-01-01T10:00:00 - 1900-01-01T18:00:00\", '', ''], \n",
    "        \"tue\": [\"1900-01-01T10:00:00 - 1900-01-01T18:00:00\", '', ''],  \n",
    "        \"wed\": [\"1900-01-01T10:00:00 - 1900-01-01T18:00:00\", '', ''], \n",
    "        \"thu\": [\"1900-01-01T10:00:00 - 1900-01-01T18:00:00\", '', ''], \n",
    "        \"fri\": [\"1900-01-01T10:00:00 - 1900-01-01T18:00:00\", '', ''], \n",
    "        \"sat\": [\"1900-01-01T10:00:00 - 1900-01-01T18:00:00\", '', ''], \n",
    "        \"sun\": [\"1900-01-01T10:00:00 - 1900-01-01T18:00:00\", '', '']}\n",
    "    json.dump(dataDict, file)"
   ]
  },
  {
   "cell_type": "code",
   "execution_count": 26,
   "id": "feecd989",
   "metadata": {
    "scrolled": true
   },
   "outputs": [],
   "source": [
    "sign_in(username, password)"
   ]
  },
  {
   "cell_type": "code",
   "execution_count": 37,
   "id": "37bf7762",
   "metadata": {},
   "outputs": [],
   "source": [
    "\n",
    "def get_week_details():\n",
    "    # Dates are in datetime.date.\n",
    "\n",
    "    if driver.current_url != historyUrl:\n",
    "        driver.get(historyUrl)\n",
    "\n",
    "    while driver.find_elements(By.CSS_SELECTOR, '.dataTables_empty'):\n",
    "        time.sleep(1)\n",
    "\n",
    "    soup = BeautifulSoup(driver.execute_script('return document.documentElement.innerHTML'), 'html.parser')\n",
    "    bookingList = soup.select_one('#future tbody').find_all('tr')\n",
    "    weekDict = {(date.today() + timedelta(days=i)): '' for i in range(0, 7)}\n",
    "\n",
    "    for booking in bookingList:\n",
    "\n",
    "        bookingData = booking.find_all('td')\n",
    "\n",
    "        try:\n",
    "\n",
    "            bookingStatus = bookingData[-2].get_text()\n",
    "\n",
    "        except IndexError:\n",
    "            # No bookings found.\n",
    "\n",
    "            break\n",
    "\n",
    "        else:\n",
    "\n",
    "            if bookingStatus == 'Cancelled':\n",
    "\n",
    "                continue\n",
    "\n",
    "            bookedDate = datetime.strptime(bookingData[2].get_text(), '%d/%m/%Y').date()\n",
    "            weekDict[bookedDate] = f'{bookingData[4].get_text()}, ' \\\n",
    "                                   f'{bookingData[5].get_text().replace(\" (The Edge)\", \"\")}'\n",
    "\n",
    "    return weekDict"
   ]
  },
  {
   "cell_type": "code",
   "execution_count": 18,
   "id": "075c04b3",
   "metadata": {},
   "outputs": [],
   "source": [
    "driver.quit()"
   ]
  },
  {
   "cell_type": "code",
   "execution_count": 6,
   "id": "4572e1f1",
   "metadata": {},
   "outputs": [],
   "source": [
    "username = 'advhab'\n",
    "password = 'acbjhbac'"
   ]
  },
  {
   "cell_type": "code",
   "execution_count": 15,
   "id": "e7012869",
   "metadata": {
    "scrolled": true
   },
   "outputs": [
    {
     "name": "stdout",
     "output_type": "stream",
     "text": [
      "Error\n"
     ]
    },
    {
     "ename": "KeyboardInterrupt",
     "evalue": "",
     "output_type": "error",
     "traceback": [
      "\u001b[1;31m---------------------------------------------------------------------------\u001b[0m",
      "\u001b[1;31mKeyboardInterrupt\u001b[0m                         Traceback (most recent call last)",
      "Cell \u001b[1;32mIn[15], line 30\u001b[0m\n\u001b[0;32m     26\u001b[0m         \u001b[38;5;28mprint\u001b[39m(\u001b[38;5;124m'\u001b[39m\u001b[38;5;124mError\u001b[39m\u001b[38;5;124m'\u001b[39m)\n\u001b[0;32m     28\u001b[0m     \u001b[38;5;28;01melse\u001b[39;00m:\n\u001b[1;32m---> 30\u001b[0m         \u001b[43mtime\u001b[49m\u001b[38;5;241;43m.\u001b[39;49m\u001b[43msleep\u001b[49m\u001b[43m(\u001b[49m\u001b[38;5;241;43m1\u001b[39;49m\u001b[43m)\u001b[49m\n\u001b[0;32m     32\u001b[0m \u001b[38;5;28mprint\u001b[39m(\u001b[38;5;124m'\u001b[39m\u001b[38;5;124mSuccess\u001b[39m\u001b[38;5;124m'\u001b[39m)\n",
      "\u001b[1;31mKeyboardInterrupt\u001b[0m: "
     ]
    }
   ],
   "source": [
    "if driver.current_url != homeUrl:\n",
    "        \n",
    "        driver.get(homeUrl)\n",
    "        time.sleep(1)\n",
    "\n",
    "signInElementList = driver.find_elements(By.LINK_TEXT, 'Sign In')\n",
    "\n",
    "if signInElementList:\n",
    "\n",
    "    action.move_to_element(signInElementList[0]).click().perform()\n",
    "    emailField = driver.find_element(By.CSS_SELECTOR, '#login_form #email')\n",
    "    emailField.clear()\n",
    "    emailField.send_keys(f'{username}@bath.ac.uk')\n",
    "    \n",
    "    passwordField = driver.find_element(By.CSS_SELECTOR, '#login_form #password')\n",
    "    passwordField.clear()\n",
    "    passwordField.send_keys(password)\n",
    "    signInButton = driver.find_element(By.CSS_SELECTOR, '#login_form button[type=\"submit\"]')\n",
    "    action.move_to_element(signInButton).click().perform()\n",
    "    \n",
    "while driver.find_elements(By.LINK_TEXT, 'Sign In'):\n",
    "\n",
    "    if driver.find_elements(By.CSS_SELECTOR, 'div.sweet-alert.showSweetAlert.visible'):\n",
    "\n",
    "        action.move_to_element(driver.find_element(By.CSS_SELECTOR, '.confirm')).click().perform()\n",
    "        print('Error')\n",
    "        break\n",
    "\n",
    "    else:\n",
    "\n",
    "        time.sleep(1)\n",
    "        \n",
    "print('Success')"
   ]
  },
  {
   "cell_type": "code",
   "execution_count": 13,
   "id": "e3b183b1",
   "metadata": {},
   "outputs": [],
   "source": [
    "driver.quit()"
   ]
  },
  {
   "cell_type": "code",
   "execution_count": 38,
   "id": "4e79c9e3",
   "metadata": {},
   "outputs": [
    {
     "data": {
      "text/plain": [
       "{datetime.date(2023, 6, 26): '',\n",
       " datetime.date(2023, 6, 27): '',\n",
       " datetime.date(2023, 6, 28): '',\n",
       " datetime.date(2023, 6, 29): '',\n",
       " datetime.date(2023, 6, 30): '09:00 – 10:00, Music Practice Room 1',\n",
       " datetime.date(2023, 7, 1): '',\n",
       " datetime.date(2023, 7, 2): ''}"
      ]
     },
     "execution_count": 38,
     "metadata": {},
     "output_type": "execute_result"
    }
   ],
   "source": []
  },
  {
   "cell_type": "code",
   "execution_count": 43,
   "id": "bdbaa9a6",
   "metadata": {},
   "outputs": [],
   "source": [
    "def get_booking_range(weekDict):\n",
    "\n",
    "    dateBookedList = list(filter(lambda x: x[1] != '', weekDict.items()))\n",
    "    print(dateBookedList)\n",
    "    weekList = list(weekDict.keys())\n",
    "\n",
    "    if dateBookedList:\n",
    "\n",
    "        startDate, _ = dateBookedList[-1]\n",
    "        startDate += timedelta(days=1)\n",
    "\n",
    "    else:\n",
    "\n",
    "        # No bookings found.\n",
    "        startDate = weekList[0]\n",
    "\n",
    "    return DateTimeRange(startDate, weekList[-1])"
   ]
  },
  {
   "cell_type": "code",
   "execution_count": 44,
   "id": "c951fa4e",
   "metadata": {},
   "outputs": [
    {
     "name": "stdout",
     "output_type": "stream",
     "text": [
      "[(datetime.date(2023, 6, 30), '09:00 – 10:00, Music Practice Room 1')]\n"
     ]
    },
    {
     "data": {
      "text/plain": [
       "2023-07-01T00:00:00 - 2023-07-02T00:00:00"
      ]
     },
     "execution_count": 44,
     "metadata": {},
     "output_type": "execute_result"
    }
   ],
   "source": [
    "get_booking_range(weekDict)"
   ]
  },
  {
   "cell_type": "code",
   "execution_count": 45,
   "id": "9c25f036",
   "metadata": {},
   "outputs": [],
   "source": [
    "driver.quit()"
   ]
  },
  {
   "cell_type": "code",
   "execution_count": null,
   "id": "01054558",
   "metadata": {},
   "outputs": [],
   "source": [
    "def book_room(roomStr, bookingDate:date, bookingWindowTuple):\n",
    "\n",
    "    driver.get(bookingUrl)\n",
    "    nextButtonList = driver.find_elements(By.XPATH, '//button[@type=\"submit\"]')\n",
    "\n",
    "    # Choose Rehearsal(Solo).\n",
    "    driver.find_element(By.XPATH, f'//input[@value=\"30\"]').click()\n",
    "    driver.find_element(By.LINK_TEXT, 'Next').click()\n",
    "    time.sleep(1)\n",
    "\n",
    "    # Choose room.\n",
    "    driver.find_element(By.XPATH, f'//span[@aria-labelledby=\"ftal_room[{roomIDDict[roomStr]}]\"]/span[2]').click()\n",
    "    nextButtonList[2].click()\n",
    "    time.sleep(1)\n",
    "\n",
    "    # Enter date.\n",
    "    dateField = driver.find_element(By.XPATH, '//input[@id=\"date_from_once\"]')\n",
    "    dateField.clear()\n",
    "    dateField.send_keys(date.bookingDate)\n",
    "\n",
    "    # Enter start time\n",
    "    startTimeField = driver.find_element(By.XPATH, '//input[@id=\"between_which_times_from\"]')\n",
    "    startTimeField.clear()\n",
    "    startTimeField.send_keys(bookingWindowTuple[0])\n",
    "\n",
    "    # Enter end time.\n",
    "    endTimeField = driver.find_element(By.XPATH, '//input[@id=\"between_which_times_to\"]')\n",
    "    endTimeField.clear()\n",
    "    endTimeField.send_keys(bookingWindowTuple[1])\n",
    "    nextButtonList[3].click()\n",
    "    time.sleep(10)\n",
    "\n",
    "    # Confirm booking.\n",
    "    driver.find_element(By.XPATH, '//input[@name=\"arrangement_description\"]').send_keys(username)\n",
    "    driver.find_element(By.XPATH, '//input[@id=\"terms_checkbox_user\"]').click()\n",
    "\n",
    "    # Final submit button only appears on last page.\n",
    "    driver.find_elements(By.XPATH, '//button[@type=\"submit\"]')[-1].click()"
   ]
  },
  {
   "cell_type": "code",
   "execution_count": null,
   "id": "7ddb67be",
   "metadata": {},
   "outputs": [],
   "source": [
    "def closest_to_window_start(freeSlotList):\n",
    "    \n",
    "    # Times are in datetime.\n",
    "\n",
    "    startTime, endTime = freeSlotList[0]\n",
    "    \n",
    "    if endTime - startTime > maxSlotLength:\n",
    "\n",
    "        endTime = startTime + maxSlotLength\n",
    "\n",
    "    return startTime, endTime\n",
    "\n",
    "def closest_to_window_end(freeSlotList):\n",
    "\n",
    "    # Times are in datetime.\n",
    "\n",
    "    startTime, endTime = freeSlotList[-1]\n",
    "    \n",
    "    if endTime - startTime > maxSlotLength:\n",
    "        \n",
    "        startTime = endTime - maxSlotLength\n",
    "        \n",
    "    return startTime, endTime"
   ]
  },
  {
   "cell_type": "code",
   "execution_count": null,
   "id": "197cd32f",
   "metadata": {},
   "outputs": [],
   "source": [
    "def filter_by_slot_length(freeSlotList):\n",
    "    \n",
    "    for i in range(4, 1, -1):\n",
    "    \n",
    "        longestSlotList = [slot for slot in freeSlotList if slot[1] - slot[0] >= i*0.5]\n",
    "        \n",
    "        if longestSlotList.size > 0:\n",
    "            \n",
    "            return longestSlotList\n",
    "        \n",
    "    return"
   ]
  },
  {
   "cell_type": "code",
   "execution_count": null,
   "id": "6a12de0b",
   "metadata": {},
   "outputs": [],
   "source": []
  },
  {
   "cell_type": "code",
   "execution_count": null,
   "id": "4d187f18",
   "metadata": {},
   "outputs": [],
   "source": [
    "freeSlotList = find_free_slots('room2', takenSlotStrList, openingHoursList[dayInt])"
   ]
  },
  {
   "cell_type": "code",
   "execution_count": null,
   "id": "41c8e245",
   "metadata": {},
   "outputs": [],
   "source": [
    "%%time \n",
    "for i in range(20): \n",
    "    \n",
    "    print(i)"
   ]
  },
  {
   "cell_type": "code",
   "execution_count": null,
   "id": "69eee346",
   "metadata": {},
   "outputs": [],
   "source": [
    "takenRange = DateTimeRange(startTime, endTime)\n",
    "\n",
    "# Ensures dates are constant for all times in datetime."
   ]
  },
  {
   "cell_type": "code",
   "execution_count": null,
   "id": "062a9e76",
   "metadata": {},
   "outputs": [],
   "source": [
    "a = []\n",
    "\n",
    "for timeRange in openingHoursList[dayInt].subtract(takenRange):\n",
    "\n",
    "    a += timeRange.subtract(takenRange1)\n",
    "    "
   ]
  },
  {
   "cell_type": "code",
   "execution_count": null,
   "id": "0fadb9cb",
   "metadata": {},
   "outputs": [],
   "source": [
    "timeList = takenSlotStrList[1].split(' – ')\n",
    "startTime = datetime.strptime(timeList[0], '%H:%M')\n",
    "endTime = datetime.strptime(timeList[1], '%H:%M')\n",
    "takenRange1 = DateTimeRange(startTime, endTime)"
   ]
  },
  {
   "cell_type": "code",
   "execution_count": null,
   "id": "d424a8bc",
   "metadata": {},
   "outputs": [],
   "source": [
    "a"
   ]
  },
  {
   "cell_type": "code",
   "execution_count": null,
   "id": "21f897ac",
   "metadata": {},
   "outputs": [],
   "source": [
    "np.array({1:1, 2:2, 3:3}.values())"
   ]
  },
  {
   "cell_type": "code",
   "execution_count": null,
   "id": "1241e864",
   "metadata": {},
   "outputs": [],
   "source": []
  }
 ],
 "metadata": {
  "kernelspec": {
   "display_name": "Python 3 (ipykernel)",
   "language": "python",
   "name": "python3"
  },
  "language_info": {
   "codemirror_mode": {
    "name": "ipython",
    "version": 3
   },
   "file_extension": ".py",
   "mimetype": "text/x-python",
   "name": "python",
   "nbconvert_exporter": "python",
   "pygments_lexer": "ipython3",
   "version": "3.10.11"
  }
 },
 "nbformat": 4,
 "nbformat_minor": 5
}
